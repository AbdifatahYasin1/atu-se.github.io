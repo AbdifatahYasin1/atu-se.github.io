{
 "cells": [
  {
   "cell_type": "markdown",
   "metadata": {},
   "source": [
    "# Chapter 5\n",
    "\n",
    "## SQL: Queries, Programming, Triggers\n",
    "\n",
    "For this lecture, we will be using this Jupyter notebook to demonstrate queries.  We require the *ipython-sql* module, and the following lines load the module and create an in-memory database:"
   ]
  },
  {
   "cell_type": "code",
   "execution_count": 1,
   "metadata": {},
   "outputs": [
    {
     "data": {
      "text/plain": [
       "'Connected: None@None'"
      ]
     },
     "execution_count": 1,
     "metadata": {},
     "output_type": "execute_result"
    }
   ],
   "source": [
    "%load_ext sql\n",
    "%sql sqlite://"
   ]
  },
  {
   "cell_type": "markdown",
   "metadata": {},
   "source": [
    "# Table Creation \n",
    "\n",
    "Now let's create some tables for sailors example and then add some data to them.  \n",
    "\n",
    "We will create a table for:\n",
    "* sailors\n",
    "* boats\n",
    "* reservations\n",
    "\n",
    "*Note: I have added in a command to DROP the tables if they already exist.  This makes it easier to re-run these commands if necessary.*"
   ]
  },
  {
   "cell_type": "code",
   "execution_count": 2,
   "metadata": {},
   "outputs": [
    {
     "name": "stdout",
     "output_type": "stream",
     "text": [
      "Done.\n",
      "Done.\n"
     ]
    },
    {
     "data": {
      "text/plain": [
       "[]"
      ]
     },
     "execution_count": 2,
     "metadata": {},
     "output_type": "execute_result"
    }
   ],
   "source": [
    "%%sql \n",
    "\n",
    "DROP TABLE IF EXISTS sailors; \n",
    "\n",
    "CREATE TABLE sailors ( \n",
    "    sailor_id INTEGER PRIMARY KEY, \n",
    "    sailor_name varchar(20), \n",
    "    rating int, \n",
    "    age float);"
   ]
  },
  {
   "cell_type": "code",
   "execution_count": 3,
   "metadata": {},
   "outputs": [
    {
     "name": "stdout",
     "output_type": "stream",
     "text": [
      "Done.\n",
      "Done.\n"
     ]
    },
    {
     "data": {
      "text/plain": [
       "[]"
      ]
     },
     "execution_count": 3,
     "metadata": {},
     "output_type": "execute_result"
    }
   ],
   "source": [
    "%%sql \n",
    "\n",
    "DROP TABLE IF EXISTS boats;\n",
    "\n",
    "CREATE TABLE boats (\n",
    "    boat_id INTEGER PRIMARY KEY,\n",
    "    color VARCHAR(20)\n",
    ");"
   ]
  },
  {
   "cell_type": "code",
   "execution_count": 7,
   "metadata": {},
   "outputs": [
    {
     "name": "stdout",
     "output_type": "stream",
     "text": [
      "1 rows affected.\n",
      "1 rows affected.\n"
     ]
    },
    {
     "data": {
      "text/plain": [
       "[]"
      ]
     },
     "execution_count": 7,
     "metadata": {},
     "output_type": "execute_result"
    }
   ],
   "source": [
    "%%sql \n",
    "INSERT INTO BOATS (boat_id, color)\n",
    "VALUES ( 101, 'red' );\n",
    "INSERT INTO BOATS (boat_id, color)\n",
    "VALUES ( 103, 'green');"
   ]
  },
  {
   "cell_type": "code",
   "execution_count": 8,
   "metadata": {},
   "outputs": [
    {
     "name": "stdout",
     "output_type": "stream",
     "text": [
      "Done.\n"
     ]
    },
    {
     "data": {
      "text/html": [
       "<table>\n",
       "    <tr>\n",
       "        <th>boat_id</th>\n",
       "        <th>color</th>\n",
       "    </tr>\n",
       "    <tr>\n",
       "        <td>101</td>\n",
       "        <td>red</td>\n",
       "    </tr>\n",
       "    <tr>\n",
       "        <td>103</td>\n",
       "        <td>green</td>\n",
       "    </tr>\n",
       "</table>"
      ],
      "text/plain": [
       "[(101, 'red'), (103, 'green')]"
      ]
     },
     "execution_count": 8,
     "metadata": {},
     "output_type": "execute_result"
    }
   ],
   "source": [
    "%sql SELECT * from boats;"
   ]
  },
  {
   "cell_type": "code",
   "execution_count": 9,
   "metadata": {},
   "outputs": [
    {
     "name": "stdout",
     "output_type": "stream",
     "text": [
      "Done.\n",
      "Done.\n"
     ]
    },
    {
     "data": {
      "text/plain": [
       "[]"
      ]
     },
     "execution_count": 9,
     "metadata": {},
     "output_type": "execute_result"
    }
   ],
   "source": [
    "%%sql \n",
    "\n",
    "DROP TABLE IF EXISTS reservations;\n",
    "\n",
    "CREATE TABLE reservations (\n",
    "    sailor_id INTEGER, \n",
    "    boat_id INTEGER, \n",
    "    date int, \n",
    "    FOREIGN KEY(sailor_id) REFERENCES sailors(sailor_id),\n",
    "    FOREIGN KEY(boat_id) REFERENCES boats(boats_id)\n",
    ");"
   ]
  },
  {
   "cell_type": "code",
   "execution_count": 10,
   "metadata": {},
   "outputs": [
    {
     "name": "stdout",
     "output_type": "stream",
     "text": [
      "1 rows affected.\n",
      "1 rows affected.\n",
      "1 rows affected.\n",
      "1 rows affected.\n",
      "1 rows affected.\n"
     ]
    },
    {
     "data": {
      "text/plain": [
       "[]"
      ]
     },
     "execution_count": 10,
     "metadata": {},
     "output_type": "execute_result"
    }
   ],
   "source": [
    "%%sql \n",
    "INSERT INTO SAILORS (sailor_id, sailor_name, rating, age)\n",
    "VALUES ( 22, 'Dustin', 7, 45.0 );\n",
    "INSERT INTO SAILORS (sailor_id, sailor_name, rating, age)\n",
    "VALUES ( 31, 'Lubber', 8, 55.5 );\n",
    "INSERT INTO SAILORS (sailor_id, sailor_name, rating, age)\n",
    "VALUES ( 58, 'Rusty', 10, 35.0 );\n",
    "INSERT INTO SAILORS (sailor_id, sailor_name, rating, age)\n",
    "VALUES ( 28, 'Yuppy', 9, 45.0 );\n",
    "INSERT INTO SAILORS (sailor_id, sailor_name, rating, age)\n",
    "VALUES ( 48, 'Guppy', 5, 35.0 );"
   ]
  },
  {
   "cell_type": "code",
   "execution_count": 11,
   "metadata": {},
   "outputs": [
    {
     "name": "stdout",
     "output_type": "stream",
     "text": [
      "0 rows affected.\n",
      "1 rows affected.\n",
      "1 rows affected.\n",
      "1 rows affected.\n"
     ]
    },
    {
     "data": {
      "text/plain": [
       "[]"
      ]
     },
     "execution_count": 11,
     "metadata": {},
     "output_type": "execute_result"
    }
   ],
   "source": [
    "%%sql\n",
    "DELETE FROM reservations;\n",
    "\n",
    "\n",
    "INSERT INTO RESERVATIONS (sailor_id, boat_id, date)\n",
    "VALUES ( 22, 101, date('1996-10-10') );\n",
    "INSERT INTO RESERVATIONS (sailor_id, boat_id, date)\n",
    "VALUES ( 58, 103, date('1996-11-12') );\n",
    "INSERT INTO RESERVATIONS (sailor_id, boat_id, date)\n",
    "VALUES ( 58, 101, date('1996-11-15') );\n",
    "\n"
   ]
  },
  {
   "cell_type": "markdown",
   "metadata": {},
   "source": [
    "# Review the Data\n",
    "Let's take a look at all the data we just created:"
   ]
  },
  {
   "cell_type": "code",
   "execution_count": 12,
   "metadata": {},
   "outputs": [
    {
     "name": "stdout",
     "output_type": "stream",
     "text": [
      "Done.\n"
     ]
    },
    {
     "data": {
      "text/html": [
       "<table>\n",
       "    <tr>\n",
       "        <th>sailor_id</th>\n",
       "        <th>sailor_name</th>\n",
       "        <th>rating</th>\n",
       "        <th>age</th>\n",
       "    </tr>\n",
       "    <tr>\n",
       "        <td>22</td>\n",
       "        <td>Dustin</td>\n",
       "        <td>7</td>\n",
       "        <td>45.0</td>\n",
       "    </tr>\n",
       "    <tr>\n",
       "        <td>28</td>\n",
       "        <td>Yuppy</td>\n",
       "        <td>9</td>\n",
       "        <td>45.0</td>\n",
       "    </tr>\n",
       "    <tr>\n",
       "        <td>31</td>\n",
       "        <td>Lubber</td>\n",
       "        <td>8</td>\n",
       "        <td>55.5</td>\n",
       "    </tr>\n",
       "    <tr>\n",
       "        <td>48</td>\n",
       "        <td>Guppy</td>\n",
       "        <td>5</td>\n",
       "        <td>35.0</td>\n",
       "    </tr>\n",
       "    <tr>\n",
       "        <td>58</td>\n",
       "        <td>Rusty</td>\n",
       "        <td>10</td>\n",
       "        <td>35.0</td>\n",
       "    </tr>\n",
       "</table>"
      ],
      "text/plain": [
       "[(22, 'Dustin', 7, 45.0),\n",
       " (28, 'Yuppy', 9, 45.0),\n",
       " (31, 'Lubber', 8, 55.5),\n",
       " (48, 'Guppy', 5, 35.0),\n",
       " (58, 'Rusty', 10, 35.0)]"
      ]
     },
     "execution_count": 12,
     "metadata": {},
     "output_type": "execute_result"
    }
   ],
   "source": [
    "%sql SELECT * from sailors;"
   ]
  },
  {
   "cell_type": "code",
   "execution_count": 13,
   "metadata": {},
   "outputs": [
    {
     "name": "stdout",
     "output_type": "stream",
     "text": [
      "Done.\n"
     ]
    },
    {
     "data": {
      "text/html": [
       "<table>\n",
       "    <tr>\n",
       "        <th>boat_id</th>\n",
       "        <th>color</th>\n",
       "    </tr>\n",
       "    <tr>\n",
       "        <td>101</td>\n",
       "        <td>red</td>\n",
       "    </tr>\n",
       "    <tr>\n",
       "        <td>103</td>\n",
       "        <td>green</td>\n",
       "    </tr>\n",
       "</table>"
      ],
      "text/plain": [
       "[(101, 'red'), (103, 'green')]"
      ]
     },
     "execution_count": 13,
     "metadata": {},
     "output_type": "execute_result"
    }
   ],
   "source": [
    "%sql SELECT * from boats;"
   ]
  },
  {
   "cell_type": "code",
   "execution_count": 14,
   "metadata": {},
   "outputs": [
    {
     "name": "stdout",
     "output_type": "stream",
     "text": [
      "Done.\n"
     ]
    },
    {
     "data": {
      "text/html": [
       "<table>\n",
       "    <tr>\n",
       "        <th>sailor_id</th>\n",
       "        <th>boat_id</th>\n",
       "        <th>date</th>\n",
       "    </tr>\n",
       "    <tr>\n",
       "        <td>22</td>\n",
       "        <td>101</td>\n",
       "        <td>1996-10-10</td>\n",
       "    </tr>\n",
       "    <tr>\n",
       "        <td>58</td>\n",
       "        <td>103</td>\n",
       "        <td>1996-11-12</td>\n",
       "    </tr>\n",
       "    <tr>\n",
       "        <td>58</td>\n",
       "        <td>101</td>\n",
       "        <td>1996-11-15</td>\n",
       "    </tr>\n",
       "</table>"
      ],
      "text/plain": [
       "[(22, 101, '1996-10-10'), (58, 103, '1996-11-12'), (58, 101, '1996-11-15')]"
      ]
     },
     "execution_count": 14,
     "metadata": {},
     "output_type": "execute_result"
    }
   ],
   "source": [
    "%sql SELECT * from reservations;"
   ]
  },
  {
   "cell_type": "markdown",
   "metadata": {},
   "source": [
    "# Example of Conceptual Evaluation"
   ]
  },
  {
   "cell_type": "code",
   "execution_count": 15,
   "metadata": {},
   "outputs": [
    {
     "name": "stdout",
     "output_type": "stream",
     "text": [
      "Done.\n"
     ]
    },
    {
     "data": {
      "text/html": [
       "<table>\n",
       "    <tr>\n",
       "        <th>sailor_name</th>\n",
       "    </tr>\n",
       "    <tr>\n",
       "        <td>Rusty</td>\n",
       "    </tr>\n",
       "</table>"
      ],
      "text/plain": [
       "[('Rusty',)]"
      ]
     },
     "execution_count": 15,
     "metadata": {},
     "output_type": "execute_result"
    }
   ],
   "source": [
    "%%sql\n",
    "\n",
    "SELECT s.sailor_name\n",
    "FROM sailors s, reservations r\n",
    "WHERE s.sailor_id=r.sailor_id AND r.boat_id=103;"
   ]
  },
  {
   "cell_type": "markdown",
   "metadata": {},
   "source": [
    "Notice that the following queries return the same results, despite not having or not using the range variables *s* and *r*:"
   ]
  },
  {
   "cell_type": "code",
   "execution_count": 16,
   "metadata": {},
   "outputs": [
    {
     "name": "stdout",
     "output_type": "stream",
     "text": [
      "Done.\n"
     ]
    },
    {
     "data": {
      "text/html": [
       "<table>\n",
       "    <tr>\n",
       "        <th>sailor_name</th>\n",
       "    </tr>\n",
       "    <tr>\n",
       "        <td>Rusty</td>\n",
       "    </tr>\n",
       "</table>"
      ],
      "text/plain": [
       "[('Rusty',)]"
      ]
     },
     "execution_count": 16,
     "metadata": {},
     "output_type": "execute_result"
    }
   ],
   "source": [
    "%%sql \n",
    "\n",
    "SELECT s.sailor_name \n",
    "FROM sailors s, reservations r\n",
    "WHERE s.sailor_id=r.sailor_id AND boat_id=103;"
   ]
  },
  {
   "cell_type": "code",
   "execution_count": 17,
   "metadata": {},
   "outputs": [
    {
     "name": "stdout",
     "output_type": "stream",
     "text": [
      "Done.\n"
     ]
    },
    {
     "data": {
      "text/html": [
       "<table>\n",
       "    <tr>\n",
       "        <th>sailor_name</th>\n",
       "    </tr>\n",
       "    <tr>\n",
       "        <td>Rusty</td>\n",
       "    </tr>\n",
       "</table>"
      ],
      "text/plain": [
       "[('Rusty',)]"
      ]
     },
     "execution_count": 17,
     "metadata": {},
     "output_type": "execute_result"
    }
   ],
   "source": [
    "%%sql \n",
    "\n",
    "SELECT sailor_name \n",
    "FROM sailors, reservations\n",
    "WHERE sailors.sailor_id=reservations.sailor_id AND boat_id=103;"
   ]
  },
  {
   "cell_type": "markdown",
   "metadata": {},
   "source": [
    "# Find sailors who've reserved at least one boat"
   ]
  },
  {
   "cell_type": "code",
   "execution_count": 21,
   "metadata": {},
   "outputs": [
    {
     "name": "stdout",
     "output_type": "stream",
     "text": [
      "Done.\n"
     ]
    },
    {
     "data": {
      "text/html": [
       "<table>\n",
       "    <tr>\n",
       "        <th>sailor_name</th>\n",
       "        <th>sailor_id</th>\n",
       "    </tr>\n",
       "    <tr>\n",
       "        <td>Dustin</td>\n",
       "        <td>22</td>\n",
       "    </tr>\n",
       "    <tr>\n",
       "        <td>Rusty</td>\n",
       "        <td>58</td>\n",
       "    </tr>\n",
       "</table>"
      ],
      "text/plain": [
       "[('Dustin', 22), ('Rusty', 58)]"
      ]
     },
     "execution_count": 21,
     "metadata": {},
     "output_type": "execute_result"
    }
   ],
   "source": [
    "%%sql \n",
    "\n",
    "SELECT DISTINCT s.sailor_name, s.sailor_id\n",
    "FROM sailors s, reservations r\n",
    "WHERE s.sailor_id=r.sailor_id;"
   ]
  },
  {
   "cell_type": "markdown",
   "metadata": {},
   "source": [
    "Notice how the query below uses arithmetical expressions in its result, and pattern matching with the *LIKE* keyword:"
   ]
  },
  {
   "cell_type": "code",
   "execution_count": 51,
   "metadata": {},
   "outputs": [
    {
     "name": "stdout",
     "output_type": "stream",
     "text": [
      "Done.\n"
     ]
    },
    {
     "data": {
      "text/html": [
       "<table>\n",
       "    <tr>\n",
       "        <th>sailor_name</th>\n",
       "        <th>age</th>\n",
       "        <th>age1</th>\n",
       "        <th>age2</th>\n",
       "    </tr>\n",
       "    <tr>\n",
       "        <td>Yuppy</td>\n",
       "        <td>45.0</td>\n",
       "        <td>40.0</td>\n",
       "        <td>90.0</td>\n",
       "    </tr>\n",
       "</table>"
      ],
      "text/plain": [
       "[('Yuppy', 45.0, 40.0, 90.0)]"
      ]
     },
     "execution_count": 51,
     "metadata": {},
     "output_type": "execute_result"
    }
   ],
   "source": [
    "%%sql \n",
    "\n",
    "SELECT s.sailor_name, s.age, S.age-5 AS age1, 2*s.age AS age2\n",
    "FROM sailors s\n",
    "WHERE s.sailor_name LIKE 'Y_%Y';"
   ]
  },
  {
   "cell_type": "markdown",
   "metadata": {},
   "source": [
    "# Find sailor_ids for sailors who've reserve a red *or* a green boat"
   ]
  },
  {
   "cell_type": "code",
   "execution_count": 62,
   "metadata": {},
   "outputs": [
    {
     "name": "stdout",
     "output_type": "stream",
     "text": [
      "Done.\n"
     ]
    },
    {
     "data": {
      "text/html": [
       "<table>\n",
       "    <tr>\n",
       "        <th>sailor_id</th>\n",
       "    </tr>\n",
       "    <tr>\n",
       "        <td>22</td>\n",
       "    </tr>\n",
       "    <tr>\n",
       "        <td>58</td>\n",
       "    </tr>\n",
       "</table>"
      ],
      "text/plain": [
       "[(22,), (58,)]"
      ]
     },
     "execution_count": 62,
     "metadata": {},
     "output_type": "execute_result"
    }
   ],
   "source": [
    "%%sql \n",
    "\n",
    "SELECT DISTINCT r.sailor_id\n",
    "FROM boats b, reservations r\n",
    "WHERE r.boat_id=b.boat_id AND\n",
    "    (B.color='red' OR b.color='green');"
   ]
  },
  {
   "cell_type": "code",
   "execution_count": 63,
   "metadata": {},
   "outputs": [
    {
     "name": "stdout",
     "output_type": "stream",
     "text": [
      "Done.\n"
     ]
    },
    {
     "data": {
      "text/html": [
       "<table>\n",
       "    <tr>\n",
       "        <th>sailor_name</th>\n",
       "    </tr>\n",
       "    <tr>\n",
       "        <td>Dustin</td>\n",
       "    </tr>\n",
       "    <tr>\n",
       "        <td>Rusty</td>\n",
       "    </tr>\n",
       "</table>"
      ],
      "text/plain": [
       "[('Dustin',), ('Rusty',)]"
      ]
     },
     "execution_count": 63,
     "metadata": {},
     "output_type": "execute_result"
    }
   ],
   "source": [
    "%%sql \n",
    "\n",
    "SELECT DISTINCT s.sailor_name\n",
    "FROM boats b, reservations r, sailors s\n",
    "WHERE r.boat_id=b.boat_id AND\n",
    "    s.sailor_id=r.sailor_id AND\n",
    "    (B.color='red' OR b.color='green');"
   ]
  },
  {
   "cell_type": "markdown",
   "metadata": {},
   "source": [
    "# What if we replace the OR with AND?"
   ]
  },
  {
   "cell_type": "code",
   "execution_count": 22,
   "metadata": {},
   "outputs": [
    {
     "name": "stdout",
     "output_type": "stream",
     "text": [
      "Done.\n"
     ]
    },
    {
     "data": {
      "text/html": [
       "<table>\n",
       "    <tr>\n",
       "        <th>sailor_id</th>\n",
       "    </tr>\n",
       "</table>"
      ],
      "text/plain": [
       "[]"
      ]
     },
     "execution_count": 22,
     "metadata": {},
     "output_type": "execute_result"
    }
   ],
   "source": [
    "%%sql \n",
    "\n",
    "SELECT s.sailor_id\n",
    "FROM sailors s, boats b, reservations r\n",
    "WHERE s.sailor_id=r.sailor_id \n",
    "    AND r.boat_id=b.boat_id \n",
    "    AND (b.color='red' AND b.color='green');"
   ]
  },
  {
   "cell_type": "markdown",
   "metadata": {},
   "source": [
    "This query probably isn't doing what we wanted it to.  It is looking for boats that are both red and green!  "
   ]
  },
  {
   "cell_type": "markdown",
   "metadata": {},
   "source": [
    "Another way to get these same results as the original *OR* query is to do a union of two queries.\n",
    "\n",
    "*Note: they must be union-compatible.*"
   ]
  },
  {
   "cell_type": "code",
   "execution_count": 23,
   "metadata": {},
   "outputs": [
    {
     "name": "stdout",
     "output_type": "stream",
     "text": [
      "Done.\n"
     ]
    },
    {
     "data": {
      "text/html": [
       "<table>\n",
       "    <tr>\n",
       "        <th>sailor_id</th>\n",
       "    </tr>\n",
       "    <tr>\n",
       "        <td>22</td>\n",
       "    </tr>\n",
       "    <tr>\n",
       "        <td>58</td>\n",
       "    </tr>\n",
       "</table>"
      ],
      "text/plain": [
       "[(22,), (58,)]"
      ]
     },
     "execution_count": 23,
     "metadata": {},
     "output_type": "execute_result"
    }
   ],
   "source": [
    "%%sql \n",
    "\n",
    "SELECT s.sailor_id\n",
    "FROM sailors s, boats b, reservations r\n",
    "WHERE s.sailor_id=r.sailor_id \n",
    "    AND r.boat_id=b.boat_id \n",
    "    AND (B.color='red')\n",
    "\n",
    "UNION\n",
    "\n",
    "SELECT s.sailor_id\n",
    "FROM sailors s, boats b, reservations r\n",
    "WHERE s.sailor_id=r.sailor_id \n",
    "    AND r.boat_id=b.boat_id \n",
    "    AND (B.color='green')\n",
    "    ;"
   ]
  },
  {
   "cell_type": "markdown",
   "metadata": {},
   "source": [
    "In the same place as the UNION keyword, we could use the EXCEPT keyword."
   ]
  },
  {
   "cell_type": "code",
   "execution_count": 24,
   "metadata": {},
   "outputs": [
    {
     "name": "stdout",
     "output_type": "stream",
     "text": [
      "Done.\n"
     ]
    },
    {
     "data": {
      "text/html": [
       "<table>\n",
       "    <tr>\n",
       "        <th>sailor_id</th>\n",
       "    </tr>\n",
       "    <tr>\n",
       "        <td>22</td>\n",
       "    </tr>\n",
       "</table>"
      ],
      "text/plain": [
       "[(22,)]"
      ]
     },
     "execution_count": 24,
     "metadata": {},
     "output_type": "execute_result"
    }
   ],
   "source": [
    "%%sql \n",
    "\n",
    "SELECT s.sailor_id\n",
    "FROM sailors s, boats b, reservations r\n",
    "WHERE s.sailor_id=r.sailor_id \n",
    "    AND r.boat_id=b.boat_id \n",
    "    AND (B.color='red')\n",
    "\n",
    "EXCEPT\n",
    "\n",
    "SELECT s.sailor_id\n",
    "FROM sailors s, boats b, reservations r\n",
    "WHERE s.sailor_id=r.sailor_id \n",
    "    AND r.boat_id=b.boat_id \n",
    "    AND (B.color='green')\n",
    "    ;"
   ]
  },
  {
   "cell_type": "markdown",
   "metadata": {},
   "source": [
    "# Find the sailor_ids of sailors who've reserved a red *and* a green boat"
   ]
  },
  {
   "cell_type": "code",
   "execution_count": 25,
   "metadata": {},
   "outputs": [
    {
     "name": "stdout",
     "output_type": "stream",
     "text": [
      "Done.\n"
     ]
    },
    {
     "data": {
      "text/html": [
       "<table>\n",
       "    <tr>\n",
       "        <th>sailor_id</th>\n",
       "    </tr>\n",
       "    <tr>\n",
       "        <td>58</td>\n",
       "    </tr>\n",
       "</table>"
      ],
      "text/plain": [
       "[(58,)]"
      ]
     },
     "execution_count": 25,
     "metadata": {},
     "output_type": "execute_result"
    }
   ],
   "source": [
    "%%sql \n",
    "\n",
    "SELECT s.sailor_id \n",
    "FROM sailors s, boats b1, reservations r1, boats b2, reservations r2\n",
    "WHERE s.sailor_id=r1.sailor_id \n",
    "    AND r1.boat_id=b1.boat_id\n",
    "    AND s.sailor_id=r2.sailor_id\n",
    "    AND r2.boat_id=b2.boat_id\n",
    "    AND (b1.color='red' AND b2.color='green');"
   ]
  },
  {
   "cell_type": "markdown",
   "metadata": {},
   "source": [
    "## We can implement the same query by taking the intersection of two queries."
   ]
  },
  {
   "cell_type": "code",
   "execution_count": 26,
   "metadata": {},
   "outputs": [
    {
     "name": "stdout",
     "output_type": "stream",
     "text": [
      "Done.\n"
     ]
    },
    {
     "data": {
      "text/html": [
       "<table>\n",
       "    <tr>\n",
       "        <th>sailor_id</th>\n",
       "    </tr>\n",
       "    <tr>\n",
       "        <td>58</td>\n",
       "    </tr>\n",
       "</table>"
      ],
      "text/plain": [
       "[(58,)]"
      ]
     },
     "execution_count": 26,
     "metadata": {},
     "output_type": "execute_result"
    }
   ],
   "source": [
    "%%sql \n",
    "\n",
    "SELECT s.sailor_id\n",
    "FROM sailors s, boats b, reservations r\n",
    "WHERE s.sailor_id=r.sailor_id \n",
    "    AND r.boat_id=b.boat_id \n",
    "    AND (B.color='red')\n",
    "\n",
    "INTERSECT\n",
    "\n",
    "SELECT s.sailor_id\n",
    "FROM sailors s, boats b, reservations r\n",
    "WHERE s.sailor_id=r.sailor_id \n",
    "    AND r.boat_id=b.boat_id \n",
    "    AND (B.color='green');"
   ]
  },
  {
   "cell_type": "markdown",
   "metadata": {},
   "source": [
    "# Nested Queries"
   ]
  },
  {
   "cell_type": "code",
   "execution_count": 27,
   "metadata": {},
   "outputs": [
    {
     "name": "stdout",
     "output_type": "stream",
     "text": [
      "Done.\n"
     ]
    },
    {
     "data": {
      "text/html": [
       "<table>\n",
       "    <tr>\n",
       "        <th>sailor_name</th>\n",
       "    </tr>\n",
       "    <tr>\n",
       "        <td>Rusty</td>\n",
       "    </tr>\n",
       "</table>"
      ],
      "text/plain": [
       "[('Rusty',)]"
      ]
     },
     "execution_count": 27,
     "metadata": {},
     "output_type": "execute_result"
    }
   ],
   "source": [
    "%%sql \n",
    "\n",
    "SELECT s.sailor_name\n",
    "FROM sailors s\n",
    "where s.sailor_id IN (\n",
    "        SELECT r.sailor_id\n",
    "        FROM reservations r\n",
    "        WHERE r.boat_id=103)"
   ]
  },
  {
   "cell_type": "code",
   "execution_count": 28,
   "metadata": {},
   "outputs": [
    {
     "name": "stdout",
     "output_type": "stream",
     "text": [
      "Done.\n"
     ]
    },
    {
     "data": {
      "text/html": [
       "<table>\n",
       "    <tr>\n",
       "        <th>sailor_name</th>\n",
       "    </tr>\n",
       "    <tr>\n",
       "        <td>Rusty</td>\n",
       "    </tr>\n",
       "</table>"
      ],
      "text/plain": [
       "[('Rusty',)]"
      ]
     },
     "execution_count": 28,
     "metadata": {},
     "output_type": "execute_result"
    }
   ],
   "source": [
    "%%sql \n",
    "\n",
    "SELECT s.sailor_name\n",
    "FROM sailors s\n",
    "WHERE EXISTS (\n",
    "        SELECT *\n",
    "        FROM reservations r\n",
    "        WHERE r.boat_id=103\n",
    "            AND s.sailor_id=r.sailor_id);"
   ]
  },
  {
   "cell_type": "markdown",
   "metadata": {},
   "source": [
    "# Set Comparison Operators\n",
    "\n",
    "Our slides make use of the keyword *ANY*.  SQLite does not implement this keyword, but we can create a similar outcome by using the *MIN* function. "
   ]
  },
  {
   "cell_type": "code",
   "execution_count": 72,
   "metadata": {},
   "outputs": [
    {
     "name": "stdout",
     "output_type": "stream",
     "text": [
      "Done.\n"
     ]
    },
    {
     "data": {
      "text/html": [
       "<table>\n",
       "    <tr>\n",
       "        <th>sailor_id</th>\n",
       "        <th>sailor_name</th>\n",
       "        <th>rating</th>\n",
       "        <th>age</th>\n",
       "    </tr>\n",
       "    <tr>\n",
       "        <td>28</td>\n",
       "        <td>Yuppy</td>\n",
       "        <td>9</td>\n",
       "        <td>45.0</td>\n",
       "    </tr>\n",
       "    <tr>\n",
       "        <td>31</td>\n",
       "        <td>Lubber</td>\n",
       "        <td>8</td>\n",
       "        <td>55.5</td>\n",
       "    </tr>\n",
       "    <tr>\n",
       "        <td>58</td>\n",
       "        <td>Rusty</td>\n",
       "        <td>10</td>\n",
       "        <td>35.0</td>\n",
       "    </tr>\n",
       "</table>"
      ],
      "text/plain": [
       "[(28, 'Yuppy', 9, 45.0), (31, 'Lubber', 8, 55.5), (58, 'Rusty', 10, 35.0)]"
      ]
     },
     "execution_count": 72,
     "metadata": {},
     "output_type": "execute_result"
    }
   ],
   "source": [
    "%%sql \n",
    "\n",
    "SELECT * \n",
    "FROM sailors s\n",
    "WHERE s.rating > (\n",
    "    SELECT MIN(s2.rating) \n",
    "    FROM sailors s2\n",
    "    WHERE s2.sailor_name='Dustin');"
   ]
  },
  {
   "cell_type": "markdown",
   "metadata": {},
   "source": [
    "# Rewriting INSERSECT Queries Using IN"
   ]
  },
  {
   "cell_type": "code",
   "execution_count": null,
   "metadata": {},
   "outputs": [],
   "source": [
    "%%sql \n",
    "\n",
    "SELECT s.sailor_id\n",
    "FROM sailors s, boats b, reservations r\n",
    "WHERE s.sailor_id=r.sailor_id \n",
    "    AND r.boat_id=b.boat_id\n",
    "    AND b.color='red'\n",
    "    AND s.sailor_id IN (\n",
    "        SELECT S2.sailor_id\n",
    "        FROM sailors s2, boats b2, reservations r2\n",
    "        WHERE s2.sailor_id=r2.sailor_id \n",
    "            AND r2.boat_id=b2.boat_id\n",
    "            AND b2.color='green')"
   ]
  },
  {
   "cell_type": "markdown",
   "metadata": {},
   "source": [
    "Can you change the above query to return the sailor's name instead of the sailor_id?"
   ]
  },
  {
   "cell_type": "markdown",
   "metadata": {},
   "source": [
    "# Division in SQL"
   ]
  },
  {
   "cell_type": "markdown",
   "metadata": {},
   "source": [
    "Here is the \"easy\" way:"
   ]
  },
  {
   "cell_type": "code",
   "execution_count": null,
   "metadata": {},
   "outputs": [],
   "source": [
    "%%sql \n",
    "\n",
    "SELECT s.sailor_name\n",
    "FROM sailors s\n",
    "WHERE NOT EXISTS (\n",
    "    SELECT b.boat_id\n",
    "    FROM boats b\n",
    "    EXCEPT \n",
    "        SELECT r.boat_id\n",
    "        FROM reservations r\n",
    "        WHERE r.sailor_id=s.sailor_id) ;"
   ]
  },
  {
   "cell_type": "code",
   "execution_count": null,
   "metadata": {},
   "outputs": [],
   "source": [
    "%%sql \n",
    "\n",
    "SELECT s.sailor_name\n",
    "FROM sailors s\n",
    "WHERE NOT EXISTS(\n",
    "    SELECT b.boat_id\n",
    "    FROM boats b\n",
    "    WHERE NOT EXISTS (\n",
    "        SELECT r.boat_id\n",
    "        FROM reservations r\n",
    "        WHERE r.boat_id=b.boat_id\n",
    "            AND r.sailor_id=s.sailor_id));"
   ]
  },
  {
   "cell_type": "code",
   "execution_count": null,
   "metadata": {},
   "outputs": [],
   "source": [
    "%sql SELECT * FROM SAILORS;"
   ]
  },
  {
   "cell_type": "code",
   "execution_count": null,
   "metadata": {},
   "outputs": [],
   "source": [
    "%sql SELECT sailor_name FROM sailors;"
   ]
  },
  {
   "cell_type": "code",
   "execution_count": null,
   "metadata": {},
   "outputs": [],
   "source": [
    "%sql SELECT * FROM sailors WHERE sailor_name=\"Dustin\";"
   ]
  },
  {
   "cell_type": "code",
   "execution_count": null,
   "metadata": {},
   "outputs": [],
   "source": [
    "%sql SELECT sailor_name FROM sailors WHERE sailor_name=\"Dustin\";"
   ]
  },
  {
   "cell_type": "markdown",
   "metadata": {},
   "source": [
    "# Aggregate Operators\n",
    "\n",
    "Now let's consider the following aggregate operators:\n",
    "* COUNT (*)\n",
    "* COUNT([DISTINCT] A)\n",
    "* SUM ( [DISTINCT] A)\n",
    "* AVG ( [DISTINCT] A)\n",
    "* MAX (A)\n",
    "* MIN (A)"
   ]
  },
  {
   "cell_type": "code",
   "execution_count": 77,
   "metadata": {},
   "outputs": [
    {
     "name": "stdout",
     "output_type": "stream",
     "text": [
      "Done.\n"
     ]
    },
    {
     "data": {
      "text/html": [
       "<table>\n",
       "    <tr>\n",
       "        <th>COUNT(*)</th>\n",
       "    </tr>\n",
       "    <tr>\n",
       "        <td>2</td>\n",
       "    </tr>\n",
       "</table>"
      ],
      "text/plain": [
       "[(2,)]"
      ]
     },
     "execution_count": 77,
     "metadata": {},
     "output_type": "execute_result"
    }
   ],
   "source": [
    "%sql SELECT COUNT(*) FROM Sailors S WHERE s.rating >8;"
   ]
  },
  {
   "cell_type": "code",
   "execution_count": null,
   "metadata": {},
   "outputs": [],
   "source": []
  }
 ],
 "metadata": {
  "kernelspec": {
   "display_name": "Python 3",
   "language": "python",
   "name": "python3"
  },
  "language_info": {
   "codemirror_mode": {
    "name": "ipython",
    "version": 3
   },
   "file_extension": ".py",
   "mimetype": "text/x-python",
   "name": "python",
   "nbconvert_exporter": "python",
   "pygments_lexer": "ipython3",
   "version": "3.6.5"
  }
 },
 "nbformat": 4,
 "nbformat_minor": 2
}
