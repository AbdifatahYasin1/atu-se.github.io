{
 "cells": [
  {
   "cell_type": "markdown",
   "metadata": {},
   "source": [
    "# Chapter 5b\n",
    "\n",
    "## SQL: Queries, Programming, Triggers\n",
    "\n",
    "For this lecture, we will be using this Jupyter notebook to demonstrate queries.  We require the *ipython-sql* module, and the following lines load the module and create an in-memory database:\n",
    "\n",
    "This is part b of the lecture, but we'll begin by loading up the same data as before."
   ]
  },
  {
   "cell_type": "code",
   "execution_count": 1,
   "metadata": {},
   "outputs": [
    {
     "data": {
      "text/plain": [
       "'Connected: None@None'"
      ]
     },
     "execution_count": 1,
     "metadata": {},
     "output_type": "execute_result"
    }
   ],
   "source": [
    "%load_ext sql\n",
    "%sql sqlite://"
   ]
  },
  {
   "cell_type": "markdown",
   "metadata": {},
   "source": [
    "# Table Creation \n",
    "\n",
    "Now let's create some tables for sailors example and then add some data to them.  \n",
    "\n",
    "We will create a table for:\n",
    "* sailors\n",
    "* boats\n",
    "* reservations\n",
    "\n",
    "*Note: I have added in a command to DROP the tables if they already exist.  This makes it easier to re-run these commands if necessary.*"
   ]
  },
  {
   "cell_type": "code",
   "execution_count": 2,
   "metadata": {},
   "outputs": [
    {
     "name": "stdout",
     "output_type": "stream",
     "text": [
      "Done.\n",
      "Done.\n"
     ]
    },
    {
     "data": {
      "text/plain": [
       "[]"
      ]
     },
     "execution_count": 2,
     "metadata": {},
     "output_type": "execute_result"
    }
   ],
   "source": [
    "%%sql \n",
    "\n",
    "DROP TABLE IF EXISTS sailors; \n",
    "\n",
    "CREATE TABLE sailors ( \n",
    "    sailor_id INTEGER PRIMARY KEY, \n",
    "    sailor_name varchar(20), \n",
    "    rating int, \n",
    "    age float);"
   ]
  },
  {
   "cell_type": "code",
   "execution_count": 3,
   "metadata": {},
   "outputs": [
    {
     "name": "stdout",
     "output_type": "stream",
     "text": [
      "Done.\n",
      "Done.\n"
     ]
    },
    {
     "data": {
      "text/plain": [
       "[]"
      ]
     },
     "execution_count": 3,
     "metadata": {},
     "output_type": "execute_result"
    }
   ],
   "source": [
    "%%sql \n",
    "\n",
    "DROP TABLE IF EXISTS boats;\n",
    "\n",
    "CREATE TABLE boats (\n",
    "    boat_id INTEGER PRIMARY KEY,\n",
    "    color VARCHAR(20)\n",
    ");"
   ]
  },
  {
   "cell_type": "code",
   "execution_count": 4,
   "metadata": {},
   "outputs": [
    {
     "name": "stdout",
     "output_type": "stream",
     "text": [
      "1 rows affected.\n",
      "1 rows affected.\n"
     ]
    },
    {
     "data": {
      "text/plain": [
       "[]"
      ]
     },
     "execution_count": 4,
     "metadata": {},
     "output_type": "execute_result"
    }
   ],
   "source": [
    "%%sql \n",
    "INSERT INTO BOATS (boat_id, color)\n",
    "VALUES ( 101, 'red' );\n",
    "INSERT INTO BOATS (boat_id, color)\n",
    "VALUES ( 103, 'green');"
   ]
  },
  {
   "cell_type": "code",
   "execution_count": 5,
   "metadata": {},
   "outputs": [
    {
     "name": "stdout",
     "output_type": "stream",
     "text": [
      "Done.\n",
      "Done.\n"
     ]
    },
    {
     "data": {
      "text/plain": [
       "[]"
      ]
     },
     "execution_count": 5,
     "metadata": {},
     "output_type": "execute_result"
    }
   ],
   "source": [
    "%%sql \n",
    "\n",
    "DROP TABLE IF EXISTS reservations;\n",
    "\n",
    "CREATE TABLE reservations (\n",
    "    sailor_id INTEGER, \n",
    "    boat_id INTEGER, \n",
    "    date int, \n",
    "    FOREIGN KEY(sailor_id) REFERENCES sailors(sailor_id));"
   ]
  },
  {
   "cell_type": "code",
   "execution_count": 6,
   "metadata": {},
   "outputs": [
    {
     "name": "stdout",
     "output_type": "stream",
     "text": [
      "1 rows affected.\n",
      "1 rows affected.\n",
      "1 rows affected.\n",
      "1 rows affected.\n",
      "3 rows affected.\n"
     ]
    },
    {
     "data": {
      "text/plain": [
       "[]"
      ]
     },
     "execution_count": 6,
     "metadata": {},
     "output_type": "execute_result"
    }
   ],
   "source": [
    "%%sql \n",
    "INSERT INTO SAILORS (sailor_id, sailor_name, rating, age)\n",
    "VALUES ( 22, 'Dustin', 7, 45.0 );\n",
    "INSERT INTO SAILORS (sailor_id, sailor_name, rating, age)\n",
    "VALUES ( 31, 'Lubber', 8, 55.5 );\n",
    "INSERT INTO SAILORS (sailor_id, sailor_name, rating, age)\n",
    "VALUES ( 58, 'Rusty', 10, 35.0 );\n",
    "INSERT INTO SAILORS (sailor_id, sailor_name, rating, age)\n",
    "VALUES ( 28, 'Yuppy', 9, 45.0 );\n",
    "INSERT INTO SAILORS (sailor_id, sailor_name, rating, age)\n",
    "VALUES \n",
    "( 48, 'Guppy', 5, 35.0 ),\n",
    "( 49, 'Slacky', 7, 41.5),\n",
    "( 50, 'Happy', 7, 49);"
   ]
  },
  {
   "cell_type": "code",
   "execution_count": 7,
   "metadata": {},
   "outputs": [
    {
     "name": "stdout",
     "output_type": "stream",
     "text": [
      "1 rows affected.\n"
     ]
    },
    {
     "data": {
      "text/plain": [
       "[]"
      ]
     },
     "execution_count": 7,
     "metadata": {},
     "output_type": "execute_result"
    }
   ],
   "source": [
    "%%sql\n",
    "INSERT INTO SAILORS (sailor_id, sailor_name, rating, age)\n",
    "VALUES \n",
    "( 55, 'Yusuf', 10, 42.0 )"
   ]
  },
  {
   "cell_type": "code",
   "execution_count": 8,
   "metadata": {},
   "outputs": [
    {
     "name": "stdout",
     "output_type": "stream",
     "text": [
      "0 rows affected.\n",
      "1 rows affected.\n",
      "1 rows affected.\n",
      "1 rows affected.\n"
     ]
    },
    {
     "data": {
      "text/plain": [
       "[]"
      ]
     },
     "execution_count": 8,
     "metadata": {},
     "output_type": "execute_result"
    }
   ],
   "source": [
    "%%sql\n",
    "DELETE FROM reservations;\n",
    "\n",
    "\n",
    "INSERT INTO RESERVATIONS (sailor_id, boat_id, date)\n",
    "VALUES ( 22, 101, date('1996-10-10') );\n",
    "INSERT INTO RESERVATIONS (sailor_id, boat_id, date)\n",
    "VALUES ( 58, 103, date('1996-11-12') );\n",
    "INSERT INTO RESERVATIONS (sailor_id, boat_id, date)\n",
    "VALUES ( 58, 101, date('1996-11-15') );\n",
    "\n"
   ]
  },
  {
   "cell_type": "markdown",
   "metadata": {},
   "source": [
    "# Review the Data\n",
    "Let's take a look at all the data we just created:"
   ]
  },
  {
   "cell_type": "code",
   "execution_count": 9,
   "metadata": {},
   "outputs": [
    {
     "name": "stdout",
     "output_type": "stream",
     "text": [
      "Done.\n"
     ]
    },
    {
     "data": {
      "text/html": [
       "<table>\n",
       "    <tr>\n",
       "        <th>sailor_id</th>\n",
       "        <th>sailor_name</th>\n",
       "        <th>rating</th>\n",
       "        <th>age</th>\n",
       "    </tr>\n",
       "    <tr>\n",
       "        <td>22</td>\n",
       "        <td>Dustin</td>\n",
       "        <td>7</td>\n",
       "        <td>45.0</td>\n",
       "    </tr>\n",
       "    <tr>\n",
       "        <td>28</td>\n",
       "        <td>Yuppy</td>\n",
       "        <td>9</td>\n",
       "        <td>45.0</td>\n",
       "    </tr>\n",
       "    <tr>\n",
       "        <td>31</td>\n",
       "        <td>Lubber</td>\n",
       "        <td>8</td>\n",
       "        <td>55.5</td>\n",
       "    </tr>\n",
       "    <tr>\n",
       "        <td>48</td>\n",
       "        <td>Guppy</td>\n",
       "        <td>5</td>\n",
       "        <td>35.0</td>\n",
       "    </tr>\n",
       "    <tr>\n",
       "        <td>49</td>\n",
       "        <td>Slacky</td>\n",
       "        <td>7</td>\n",
       "        <td>41.5</td>\n",
       "    </tr>\n",
       "    <tr>\n",
       "        <td>50</td>\n",
       "        <td>Happy</td>\n",
       "        <td>7</td>\n",
       "        <td>49.0</td>\n",
       "    </tr>\n",
       "    <tr>\n",
       "        <td>55</td>\n",
       "        <td>Yusuf</td>\n",
       "        <td>10</td>\n",
       "        <td>42.0</td>\n",
       "    </tr>\n",
       "    <tr>\n",
       "        <td>58</td>\n",
       "        <td>Rusty</td>\n",
       "        <td>10</td>\n",
       "        <td>35.0</td>\n",
       "    </tr>\n",
       "</table>"
      ],
      "text/plain": [
       "[(22, 'Dustin', 7, 45.0),\n",
       " (28, 'Yuppy', 9, 45.0),\n",
       " (31, 'Lubber', 8, 55.5),\n",
       " (48, 'Guppy', 5, 35.0),\n",
       " (49, 'Slacky', 7, 41.5),\n",
       " (50, 'Happy', 7, 49.0),\n",
       " (55, 'Yusuf', 10, 42.0),\n",
       " (58, 'Rusty', 10, 35.0)]"
      ]
     },
     "execution_count": 9,
     "metadata": {},
     "output_type": "execute_result"
    }
   ],
   "source": [
    "%sql SELECT * from sailors;"
   ]
  },
  {
   "cell_type": "code",
   "execution_count": 10,
   "metadata": {},
   "outputs": [
    {
     "name": "stdout",
     "output_type": "stream",
     "text": [
      "Done.\n"
     ]
    },
    {
     "data": {
      "text/html": [
       "<table>\n",
       "    <tr>\n",
       "        <th>boat_id</th>\n",
       "        <th>color</th>\n",
       "    </tr>\n",
       "    <tr>\n",
       "        <td>101</td>\n",
       "        <td>red</td>\n",
       "    </tr>\n",
       "    <tr>\n",
       "        <td>103</td>\n",
       "        <td>green</td>\n",
       "    </tr>\n",
       "</table>"
      ],
      "text/plain": [
       "[(101, 'red'), (103, 'green')]"
      ]
     },
     "execution_count": 10,
     "metadata": {},
     "output_type": "execute_result"
    }
   ],
   "source": [
    "%sql SELECT * from boats;"
   ]
  },
  {
   "cell_type": "code",
   "execution_count": 11,
   "metadata": {},
   "outputs": [
    {
     "name": "stdout",
     "output_type": "stream",
     "text": [
      "Done.\n"
     ]
    },
    {
     "data": {
      "text/html": [
       "<table>\n",
       "    <tr>\n",
       "        <th>sailor_id</th>\n",
       "        <th>boat_id</th>\n",
       "        <th>date</th>\n",
       "    </tr>\n",
       "    <tr>\n",
       "        <td>22</td>\n",
       "        <td>101</td>\n",
       "        <td>1996-10-10</td>\n",
       "    </tr>\n",
       "    <tr>\n",
       "        <td>58</td>\n",
       "        <td>103</td>\n",
       "        <td>1996-11-12</td>\n",
       "    </tr>\n",
       "    <tr>\n",
       "        <td>58</td>\n",
       "        <td>101</td>\n",
       "        <td>1996-11-15</td>\n",
       "    </tr>\n",
       "</table>"
      ],
      "text/plain": [
       "[(22, 101, '1996-10-10'), (58, 103, '1996-11-12'), (58, 101, '1996-11-15')]"
      ]
     },
     "execution_count": 11,
     "metadata": {},
     "output_type": "execute_result"
    }
   ],
   "source": [
    "%sql SELECT * from reservations;"
   ]
  },
  {
   "cell_type": "markdown",
   "metadata": {},
   "source": [
    "# Aggregate Operators\n",
    "\n",
    "Next we will examine aggregate operators like:\n",
    "* COUNT (*)\n",
    "* COUNT ( [DISTINCT] A)\n",
    "* SUM ( [DISTINCT] A)\n",
    "* AVG ( [DISTINCT] A)\n",
    "* MAX (A)\n",
    "* MIN (A)\n",
    "\n"
   ]
  },
  {
   "cell_type": "code",
   "execution_count": 26,
   "metadata": {},
   "outputs": [
    {
     "name": "stdout",
     "output_type": "stream",
     "text": [
      "Done.\n"
     ]
    },
    {
     "data": {
      "text/html": [
       "<table>\n",
       "    <tr>\n",
       "        <th>sailor_count</th>\n",
       "    </tr>\n",
       "    <tr>\n",
       "        <td>8</td>\n",
       "    </tr>\n",
       "</table>"
      ],
      "text/plain": [
       "[(8,)]"
      ]
     },
     "execution_count": 26,
     "metadata": {},
     "output_type": "execute_result"
    }
   ],
   "source": [
    "%%sql \n",
    "SELECT COUNT (sailor_name) as sailor_count\n",
    "FROM SAILORS;"
   ]
  },
  {
   "cell_type": "code",
   "execution_count": 27,
   "metadata": {},
   "outputs": [
    {
     "name": "stdout",
     "output_type": "stream",
     "text": [
      "Done.\n"
     ]
    },
    {
     "data": {
      "text/html": [
       "<table>\n",
       "    <tr>\n",
       "        <th>AVG (S.age)</th>\n",
       "    </tr>\n",
       "    <tr>\n",
       "        <td>38.5</td>\n",
       "    </tr>\n",
       "</table>"
      ],
      "text/plain": [
       "[(38.5,)]"
      ]
     },
     "execution_count": 27,
     "metadata": {},
     "output_type": "execute_result"
    }
   ],
   "source": [
    "%%sql \n",
    "SELECT AVG (S.age)\n",
    "FROM SAILORS S\n",
    "WHERE S.rating=10;"
   ]
  },
  {
   "cell_type": "code",
   "execution_count": 14,
   "metadata": {},
   "outputs": [
    {
     "name": "stdout",
     "output_type": "stream",
     "text": [
      "Done.\n"
     ]
    },
    {
     "data": {
      "text/html": [
       "<table>\n",
       "    <tr>\n",
       "        <th>AVG (S.age)</th>\n",
       "    </tr>\n",
       "    <tr>\n",
       "        <td>44.375</td>\n",
       "    </tr>\n",
       "</table>"
      ],
      "text/plain": [
       "[(44.375,)]"
      ]
     },
     "execution_count": 14,
     "metadata": {},
     "output_type": "execute_result"
    }
   ],
   "source": [
    "%%sql \n",
    "SELECT AVG (S.age)\n",
    "FROM SAILORS S\n",
    "WHERE S.rating>7;"
   ]
  },
  {
   "cell_type": "code",
   "execution_count": 30,
   "metadata": {},
   "outputs": [
    {
     "name": "stdout",
     "output_type": "stream",
     "text": [
      "Done.\n"
     ]
    },
    {
     "data": {
      "text/html": [
       "<table>\n",
       "    <tr>\n",
       "        <th>COUNT( DISTINCT S.rating)</th>\n",
       "    </tr>\n",
       "    <tr>\n",
       "        <td>5</td>\n",
       "    </tr>\n",
       "</table>"
      ],
      "text/plain": [
       "[(5,)]"
      ]
     },
     "execution_count": 30,
     "metadata": {},
     "output_type": "execute_result"
    }
   ],
   "source": [
    "%%sql\n",
    "SELECT COUNT( DISTINCT S.rating)\n",
    "FROM Sailors S;"
   ]
  },
  {
   "cell_type": "code",
   "execution_count": 16,
   "metadata": {},
   "outputs": [
    {
     "name": "stdout",
     "output_type": "stream",
     "text": [
      "Done.\n"
     ]
    },
    {
     "data": {
      "text/html": [
       "<table>\n",
       "    <tr>\n",
       "        <th>MAX(S.rating)</th>\n",
       "    </tr>\n",
       "    <tr>\n",
       "        <td>10</td>\n",
       "    </tr>\n",
       "</table>"
      ],
      "text/plain": [
       "[(10,)]"
      ]
     },
     "execution_count": 16,
     "metadata": {},
     "output_type": "execute_result"
    }
   ],
   "source": [
    "%%sql\n",
    "SELECT MAX(S.rating) \n",
    "FROM Sailors S;"
   ]
  },
  {
   "cell_type": "code",
   "execution_count": 31,
   "metadata": {},
   "outputs": [
    {
     "name": "stdout",
     "output_type": "stream",
     "text": [
      "Done.\n"
     ]
    },
    {
     "data": {
      "text/html": [
       "<table>\n",
       "    <tr>\n",
       "        <th>sailor_name</th>\n",
       "    </tr>\n",
       "    <tr>\n",
       "        <td>Yusuf</td>\n",
       "    </tr>\n",
       "    <tr>\n",
       "        <td>Rusty</td>\n",
       "    </tr>\n",
       "</table>"
      ],
      "text/plain": [
       "[('Yusuf',), ('Rusty',)]"
      ]
     },
     "execution_count": 31,
     "metadata": {},
     "output_type": "execute_result"
    }
   ],
   "source": [
    "%%sql\n",
    "SELECT S.sailor_name\n",
    "FROM Sailors S\n",
    "WHERE S.rating=(SELECT MAX(S2.rating) \n",
    "                FROM Sailors S2);"
   ]
  },
  {
   "cell_type": "code",
   "execution_count": 32,
   "metadata": {},
   "outputs": [
    {
     "name": "stdout",
     "output_type": "stream",
     "text": [
      "Done.\n"
     ]
    },
    {
     "data": {
      "text/html": [
       "<table>\n",
       "    <tr>\n",
       "        <th>AVG (S.age)</th>\n",
       "    </tr>\n",
       "    <tr>\n",
       "        <td>43.5</td>\n",
       "    </tr>\n",
       "</table>"
      ],
      "text/plain": [
       "[(43.5,)]"
      ]
     },
     "execution_count": 32,
     "metadata": {},
     "output_type": "execute_result"
    }
   ],
   "source": [
    "%%sql \n",
    "SELECT AVG (S.age)\n",
    "FROM Sailors S;"
   ]
  },
  {
   "cell_type": "markdown",
   "metadata": {},
   "source": [
    "# Find name and age of the oldest sailor(s)"
   ]
  },
  {
   "cell_type": "code",
   "execution_count": 19,
   "metadata": {},
   "outputs": [
    {
     "name": "stdout",
     "output_type": "stream",
     "text": [
      "Done.\n"
     ]
    },
    {
     "data": {
      "text/html": [
       "<table>\n",
       "    <tr>\n",
       "        <th>sailor_name</th>\n",
       "        <th>MAX(S.age)</th>\n",
       "    </tr>\n",
       "    <tr>\n",
       "        <td>Lubber</td>\n",
       "        <td>55.5</td>\n",
       "    </tr>\n",
       "</table>"
      ],
      "text/plain": [
       "[('Lubber', 55.5)]"
      ]
     },
     "execution_count": 19,
     "metadata": {},
     "output_type": "execute_result"
    }
   ],
   "source": [
    "%%sql \n",
    "SELECT S.sailor_name, MAX(S.age) \n",
    "FROM Sailors S;"
   ]
  },
  {
   "cell_type": "code",
   "execution_count": 20,
   "metadata": {},
   "outputs": [
    {
     "name": "stdout",
     "output_type": "stream",
     "text": [
      "Done.\n"
     ]
    },
    {
     "data": {
      "text/html": [
       "<table>\n",
       "    <tr>\n",
       "        <th>sailor_name</th>\n",
       "        <th>age</th>\n",
       "    </tr>\n",
       "    <tr>\n",
       "        <td>Lubber</td>\n",
       "        <td>55.5</td>\n",
       "    </tr>\n",
       "</table>"
      ],
      "text/plain": [
       "[('Lubber', 55.5)]"
      ]
     },
     "execution_count": 20,
     "metadata": {},
     "output_type": "execute_result"
    }
   ],
   "source": [
    "%%sql \n",
    "SELECT S.sailor_name, S.age\n",
    "FROM Sailors S\n",
    "WHERE S.age=\n",
    "    (SELECT MAX (S2.age)\n",
    "    FROM Sailors S2);"
   ]
  },
  {
   "cell_type": "markdown",
   "metadata": {},
   "source": [
    "# Find name and age of the oldest sailor(s)"
   ]
  },
  {
   "cell_type": "code",
   "execution_count": 21,
   "metadata": {},
   "outputs": [
    {
     "name": "stdout",
     "output_type": "stream",
     "text": [
      "Done.\n"
     ]
    },
    {
     "data": {
      "text/html": [
       "<table>\n",
       "    <tr>\n",
       "        <th>sailor_name</th>\n",
       "        <th>age</th>\n",
       "    </tr>\n",
       "    <tr>\n",
       "        <td>Lubber</td>\n",
       "        <td>55.5</td>\n",
       "    </tr>\n",
       "</table>"
      ],
      "text/plain": [
       "[('Lubber', 55.5)]"
      ]
     },
     "execution_count": 21,
     "metadata": {},
     "output_type": "execute_result"
    }
   ],
   "source": [
    "%%sql\n",
    "SELECT S.sailor_name, S.age \n",
    "FROM Sailors S\n",
    "WHERE (SELECT MAX(S2.age)\n",
    "          FROM Sailors S2) = S.age;"
   ]
  },
  {
   "cell_type": "markdown",
   "metadata": {},
   "source": [
    "# Group By and Having"
   ]
  },
  {
   "cell_type": "markdown",
   "metadata": {},
   "source": [
    "# Find the age of the youngest sailor with age >= 18, for reach rating with at least 2 such sailors"
   ]
  },
  {
   "cell_type": "code",
   "execution_count": 22,
   "metadata": {},
   "outputs": [
    {
     "name": "stdout",
     "output_type": "stream",
     "text": [
      "Done.\n"
     ]
    },
    {
     "data": {
      "text/html": [
       "<table>\n",
       "    <tr>\n",
       "        <th>rating</th>\n",
       "        <th>MIN (S.age)</th>\n",
       "    </tr>\n",
       "    <tr>\n",
       "        <td>7</td>\n",
       "        <td>41.5</td>\n",
       "    </tr>\n",
       "    <tr>\n",
       "        <td>10</td>\n",
       "        <td>35.0</td>\n",
       "    </tr>\n",
       "</table>"
      ],
      "text/plain": [
       "[(7, 41.5), (10, 35.0)]"
      ]
     },
     "execution_count": 22,
     "metadata": {},
     "output_type": "execute_result"
    }
   ],
   "source": [
    "%%sql \n",
    "SELECT S.rating, MIN (S.age)\n",
    "FROM Sailors S\n",
    "WHERE S.age>=18\n",
    "GROUP BY S.rating\n",
    "HAVING COUNT(*)>1;"
   ]
  },
  {
   "cell_type": "code",
   "execution_count": 33,
   "metadata": {},
   "outputs": [
    {
     "name": "stdout",
     "output_type": "stream",
     "text": [
      "Done.\n"
     ]
    },
    {
     "data": {
      "text/html": [
       "<table>\n",
       "    <tr>\n",
       "        <th>rating_group</th>\n",
       "        <th>minumum_age_of_rating</th>\n",
       "    </tr>\n",
       "    <tr>\n",
       "        <td>7</td>\n",
       "        <td>41.5</td>\n",
       "    </tr>\n",
       "    <tr>\n",
       "        <td>10</td>\n",
       "        <td>35.0</td>\n",
       "    </tr>\n",
       "</table>"
      ],
      "text/plain": [
       "[(7, 41.5), (10, 35.0)]"
      ]
     },
     "execution_count": 33,
     "metadata": {},
     "output_type": "execute_result"
    }
   ],
   "source": [
    "%%sql \n",
    "SELECT S.rating AS rating_group, MIN (S.age) AS minumum_age_of_rating\n",
    "FROM Sailors S\n",
    "WHERE S.age>=18\n",
    "GROUP BY S.rating\n",
    "HAVING COUNT(*)>1;"
   ]
  },
  {
   "cell_type": "markdown",
   "metadata": {},
   "source": [
    "# For each red boat, find the number of reservations for this boat"
   ]
  },
  {
   "cell_type": "code",
   "execution_count": 34,
   "metadata": {},
   "outputs": [
    {
     "name": "stdout",
     "output_type": "stream",
     "text": [
      "Done.\n"
     ]
    },
    {
     "data": {
      "text/html": [
       "<table>\n",
       "    <tr>\n",
       "        <th>color</th>\n",
       "        <th>boat_id</th>\n",
       "        <th>reservation_count</th>\n",
       "    </tr>\n",
       "    <tr>\n",
       "        <td>red</td>\n",
       "        <td>101</td>\n",
       "        <td>2</td>\n",
       "    </tr>\n",
       "    <tr>\n",
       "        <td>green</td>\n",
       "        <td>103</td>\n",
       "        <td>1</td>\n",
       "    </tr>\n",
       "</table>"
      ],
      "text/plain": [
       "[('red', 101, 2), ('green', 103, 1)]"
      ]
     },
     "execution_count": 34,
     "metadata": {},
     "output_type": "execute_result"
    }
   ],
   "source": [
    "%%sql \n",
    "SELECT b.color, b.boat_id, count(*) AS reservation_count\n",
    "FROM Sailors S, Boats B, Reservations R\n",
    "WHERE S.sailor_id=R.sailor_id \n",
    "    AND R.boat_id=B.boat_id \n",
    "    GROUP by B.boat_id, b.color;"
   ]
  },
  {
   "cell_type": "code",
   "execution_count": null,
   "metadata": {},
   "outputs": [],
   "source": []
  }
 ],
 "metadata": {
  "kernelspec": {
   "display_name": "Python 3",
   "language": "python",
   "name": "python3"
  },
  "language_info": {
   "codemirror_mode": {
    "name": "ipython",
    "version": 3
   },
   "file_extension": ".py",
   "mimetype": "text/x-python",
   "name": "python",
   "nbconvert_exporter": "python",
   "pygments_lexer": "ipython3",
   "version": "3.6.5"
  }
 },
 "nbformat": 4,
 "nbformat_minor": 2
}
