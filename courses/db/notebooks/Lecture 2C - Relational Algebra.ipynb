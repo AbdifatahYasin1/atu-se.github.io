{
 "cells": [
  {
   "cell_type": "code",
   "execution_count": null,
   "metadata": {
    "lines_to_next_cell": 2,
    "slideshow": {
     "slide_type": "skip"
    }
   },
   "outputs": [],
   "source": [
    "from itertools import product"
   ]
  },
  {
   "cell_type": "markdown",
   "metadata": {
    "slideshow": {
     "slide_type": "slide"
    }
   },
   "source": [
    "# Relational Algebra\n",
    "\n",
    "There are six basic relational algebra operators\n",
    "\n",
    "Symbol   | Name\n",
    "---------|-----\n",
    "$\\sigma$ | Selection \n",
    "$\\Pi$    | Projection \n",
    "$\\times$ | Cartesian Product \n",
    "$\\cup$   | Union \n",
    "\\-       | Set Difference \n",
    "$\\bowtie$| Natural Join \n"
   ]
  },
  {
   "cell_type": "markdown",
   "metadata": {
    "slideshow": {
     "slide_type": "slide"
    }
   },
   "source": [
    "# Example\n",
    "\n",
    "Let's pretend for a moment that our relationals only have one attribute each.  Let's consider one relation,\n",
    "$$A = \\{1,4,5,7\\}$$\n",
    "and another relation \n",
    "$$B = \\{2,4,6,8\\}$$\n",
    "\n"
   ]
  },
  {
   "cell_type": "markdown",
   "metadata": {
    "slideshow": {
     "slide_type": "slide"
    }
   },
   "source": [
    "## Union\n",
    "\n",
    "$$A = \\{1,4,5,7\\}, B = \\{2,4,6,8\\}$$\n",
    "What is $A\\cup B$?"
   ]
  },
  {
   "cell_type": "code",
   "execution_count": 67,
   "metadata": {
    "slideshow": {
     "slide_type": "fragment"
    }
   },
   "outputs": [
    {
     "data": {
      "text/plain": [
       "{1, 2, 4, 5, 6, 7, 8}"
      ]
     },
     "execution_count": 67,
     "metadata": {},
     "output_type": "execute_result"
    }
   ],
   "source": [
    "A = {1,4,5,7}\n",
    "B = {2,4,6,8}\n",
    "A.union(B)"
   ]
  },
  {
   "cell_type": "markdown",
   "metadata": {
    "slideshow": {
     "slide_type": "slide"
    }
   },
   "source": [
    "## Set Difference\n",
    "\n",
    "$$A = \\{1,4,5,7\\}, B = \\{2,4,6,8\\}$$\n",
    "What is $A-B$?"
   ]
  },
  {
   "cell_type": "code",
   "execution_count": 64,
   "metadata": {
    "slideshow": {
     "slide_type": "fragment"
    }
   },
   "outputs": [
    {
     "data": {
      "text/plain": [
       "{1, 5, 7}"
      ]
     },
     "execution_count": 64,
     "metadata": {},
     "output_type": "execute_result"
    }
   ],
   "source": [
    "A-B"
   ]
  },
  {
   "cell_type": "markdown",
   "metadata": {
    "slideshow": {
     "slide_type": "slide"
    }
   },
   "source": [
    "## Cartesian Product\n",
    "\n",
    "$$A = \\{1,4,5,7\\}, B = \\{2,4,6,8\\}$$\n",
    "What is $A \\times B$?"
   ]
  },
  {
   "cell_type": "code",
   "execution_count": 65,
   "metadata": {
    "scrolled": true,
    "slideshow": {
     "slide_type": "fragment"
    }
   },
   "outputs": [
    {
     "data": {
      "text/plain": [
       "[(1, 9),\n",
       " (1, 2),\n",
       " (1, 4),\n",
       " (1, 6),\n",
       " (4, 9),\n",
       " (4, 2),\n",
       " (4, 4),\n",
       " (4, 6),\n",
       " (5, 9),\n",
       " (5, 2),\n",
       " (5, 4),\n",
       " (5, 6),\n",
       " (7, 9),\n",
       " (7, 2),\n",
       " (7, 4),\n",
       " (7, 6)]"
      ]
     },
     "execution_count": 65,
     "metadata": {},
     "output_type": "execute_result"
    }
   ],
   "source": [
    "list(product (A,B))"
   ]
  },
  {
   "cell_type": "markdown",
   "metadata": {
    "slideshow": {
     "slide_type": "slide"
    }
   },
   "source": [
    "# Now with Relations\n",
    "\n",
    "Consider this relation `r`:\n",
    "\n",
    "A        | B       | C  | D\n",
    "---------|---------|----|---\n",
    "$\\alpha$ | $\\beta$ | 1  | 7\n",
    "$\\alpha$ | $\\beta$ | 5  | 7\n",
    "$\\beta$  | $\\beta$ | 12 | 3\n",
    "$\\beta$  | $\\beta$ | 23 | 10\n"
   ]
  },
  {
   "cell_type": "markdown",
   "metadata": {
    "slideshow": {
     "slide_type": "slide"
    }
   },
   "source": [
    "# Selection\n",
    "\n",
    "The selection operators allows us to choose some logical propositions to filter our tuples.  For example:\n",
    "\n",
    "$\\sigma_{A=B \\land D > 5} (r)$\n",
    "\n",
    "This selection returns all tuples in which A is equal to be, and D is greater than 5.\n",
    "\n",
    "$\\sigma_{A=B \\land D > 5} (r)$ = ?"
   ]
  },
  {
   "cell_type": "markdown",
   "metadata": {
    "slideshow": {
     "slide_type": "slide"
    }
   },
   "source": [
    "# Selection\n",
    "\n",
    "$\\sigma_{A=B \\land D > 5} (r)$ =\n",
    "\n",
    "A        | B       | C  | D\n",
    "---------|---------|----|---\n",
    "$\\beta$  | $\\beta$ | 23 | 10\n"
   ]
  },
  {
   "cell_type": "markdown",
   "metadata": {
    "slideshow": {
     "slide_type": "slide"
    }
   },
   "source": [
    "# Projection\n",
    "\n",
    "The projection operators allows us to choose which attributes of a relation to return.  It allows us to filter our attributes.\n",
    "\n",
    "Given relation r = \n",
    "\n",
    "A        | B  | C  \n",
    "---------|----|----\n",
    "$\\alpha$ | 10 | 1  \n",
    "$\\alpha$ | 20 | 1 \n",
    "$\\beta$  | 30 | 1 \n",
    "$\\beta$  | 40 | 2 \n",
    "\n",
    "$\\Pi_{A, C}(r)$ = ?"
   ]
  },
  {
   "cell_type": "markdown",
   "metadata": {
    "slideshow": {
     "slide_type": "slide"
    }
   },
   "source": [
    "# Projection \n",
    "\n",
    "$\\Pi_{A, C}(r)$ = \n",
    "\n",
    "\n",
    "A        | C  \n",
    "---------|----\n",
    "$\\alpha$ | 1  \n",
    "$\\alpha$ | 1 \n",
    "$\\beta$  | 1 \n",
    "$\\beta$  | 2 \n",
    "    \n",
    "= \n",
    "\n",
    "A        | C  \n",
    "---------|----\n",
    "$\\alpha$ | 1  \n",
    "$\\beta$  | 1 \n",
    "$\\beta$  | 2 "
   ]
  }
 ],
 "metadata": {
  "celltoolbar": "Slideshow",
  "jupytext": {
   "formats": "ipynb,py:light"
  },
  "kernelspec": {
   "display_name": "Python 3",
   "language": "python",
   "name": "python3"
  },
  "language_info": {
   "codemirror_mode": {
    "name": "ipython",
    "version": 3
   },
   "file_extension": ".py",
   "mimetype": "text/x-python",
   "name": "python",
   "nbconvert_exporter": "python",
   "pygments_lexer": "ipython3",
   "version": "3.7.2"
  }
 },
 "nbformat": 4,
 "nbformat_minor": 2
}
